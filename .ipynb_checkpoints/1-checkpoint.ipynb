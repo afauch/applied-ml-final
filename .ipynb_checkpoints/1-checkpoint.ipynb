{
 "cells": [
  {
   "cell_type": "markdown",
   "metadata": {},
   "source": [
    "### This imports the numpy and matplot libraries"
   ]
  },
  {
   "cell_type": "code",
   "execution_count": 27,
   "metadata": {},
   "outputs": [],
   "source": [
    "# Global imports and settings\n",
    "\n",
    "# OS for I/O operations\n",
    "import os\n",
    "import csv\n",
    "import glob\n",
    "\n",
    "# Matplotlib\n",
    "%matplotlib inline\n",
    "from matplotlib import pyplot as plt\n",
    "plt.rcParams[\"figure.figsize\"] = (8, 8)\n",
    "plt.rcParams[\"figure.max_open_warning\"] = -1\n",
    "\n",
    "# Numpy & print options\n",
    "import numpy as np\n",
    "np.set_printoptions(precision=3)\n",
    "\n",
    "# Pandas\n",
    "import pandas as pd\n",
    "\n",
    "# Sklearn\n",
    "import sklearn\n",
    "from sklearn.model_selection import train_test_split\n",
    "from sklearn.model_selection import KFold, StratifiedKFold, cross_val_score\n",
    "from sklearn.preprocessing import LabelEncoder, LabelBinarizer\n",
    "from sklearn import svm\n",
    "\n",
    "# Sklearn-pandas\n",
    "from sklearn_pandas import DataFrameMapper, cross_val_score\n",
    "\n",
    "# Silence warnings\n",
    "import warnings\n",
    "warnings.simplefilter(action=\"ignore\", category=FutureWarning)\n",
    "warnings.simplefilter(action=\"ignore\", category=UserWarning)\n",
    "warnings.simplefilter(action=\"ignore\", category=RuntimeWarning)"
   ]
  },
  {
   "cell_type": "markdown",
   "metadata": {},
   "source": [
    "## Import all CSVs in the `data` subdirectory"
   ]
  },
  {
   "cell_type": "code",
   "execution_count": 65,
   "metadata": {},
   "outputs": [
    {
     "name": "stdout",
     "output_type": "stream",
     "text": [
      "Reading file:/Users/afaucher/Documents/Grad School 2017/CMU HCI/Courses/_0X Applied ML/Assignments/Final Project/_Notebook/data/0BFC35E2-4817-4865-BFA7-764742302A2D.features_labels.csv\n",
      "Reading file:/Users/afaucher/Documents/Grad School 2017/CMU HCI/Courses/_0X Applied ML/Assignments/Final Project/_Notebook/data/0A986513-7828-4D53-AA1F-E02D6DF9561B.features_labels.csv\n",
      "Reading file:/Users/afaucher/Documents/Grad School 2017/CMU HCI/Courses/_0X Applied ML/Assignments/Final Project/_Notebook/data/0E6184E1-90C0-48EE-B25A-F1ECB7B9714E.features_labels.csv\n",
      "Index([u'timestamp', u'raw_acc:magnitude_stats:mean',\n",
      "       u'raw_acc:magnitude_stats:std', u'raw_acc:magnitude_stats:moment3',\n",
      "       u'raw_acc:magnitude_stats:moment4',\n",
      "       u'raw_acc:magnitude_stats:percentile25',\n",
      "       u'raw_acc:magnitude_stats:percentile50',\n",
      "       u'raw_acc:magnitude_stats:percentile75',\n",
      "       u'raw_acc:magnitude_stats:value_entropy',\n",
      "       u'raw_acc:magnitude_stats:time_entropy',\n",
      "       ...\n",
      "       u'label:STAIRS_-_GOING_DOWN', u'label:ELEVATOR', u'label:OR_standing',\n",
      "       u'label:AT_SCHOOL', u'label:PHONE_IN_HAND', u'label:PHONE_IN_BAG',\n",
      "       u'label:PHONE_ON_TABLE', u'label:WITH_CO-WORKERS',\n",
      "       u'label:WITH_FRIENDS', u'label_source'],\n",
      "      dtype='object', length=278)\n",
      "(14589, 278)\n"
     ]
    }
   ],
   "source": [
    "path = os.path.join(os.getcwd(), 'data') # pull files from the 'data' subdirectory\n",
    "allFiles = glob.glob(path + \"/*.csv\")\n",
    "df = pd.DataFrame()\n",
    "list_ = []\n",
    "for file_ in allFiles:\n",
    "    print('Reading file:' + file_)\n",
    "    this_df = pd.read_csv(file_,index_col=None, header=0)\n",
    "    list_.append(this_df)\n",
    "df = pd.concat(list_)\n",
    "\n",
    "print df.columns\n",
    "print df.shape"
   ]
  },
  {
   "cell_type": "markdown",
   "metadata": {},
   "source": [
    "## Select the features we actually want to use."
   ]
  },
  {
   "cell_type": "code",
   "execution_count": 66,
   "metadata": {},
   "outputs": [],
   "source": [
    "relevant_features = [\n",
    "    \n",
    "    ### NUMERIC FEATURES ###\n",
    "    \n",
    "    # Timestamp\n",
    "    'timestamp',\n",
    "    # Accelerometer Features\n",
    "    'raw_acc:magnitude_stats:percentile25',\n",
    "    'raw_acc:magnitude_stats:percentile50',\n",
    "    'raw_acc:magnitude_stats:percentile75',\n",
    "    'raw_acc:magnitude_stats:value_entropy',\n",
    "    'raw_acc:magnitude_stats:time_entropy',\n",
    "    'raw_acc:magnitude_autocorrelation:period',\n",
    "    'raw_acc:magnitude_autocorrelation:normalized_ac',\n",
    "    # Gyroscope Features\n",
    "    'proc_gyro:magnitude_stats:mean',\n",
    "    'proc_gyro:magnitude_stats:std',\n",
    "    'proc_gyro:magnitude_stats:percentile25',\n",
    "    'proc_gyro:magnitude_stats:percentile50',\n",
    "    'proc_gyro:magnitude_stats:percentile75',\n",
    "    'proc_gyro:magnitude_stats:value_entropy',\n",
    "    'proc_gyro:magnitude_autocorrelation:period',\n",
    "    'proc_gyro:magnitude_autocorrelation:normalized_ac',\n",
    "    # Location Features\n",
    "    'location_quick_features:std_lat',\n",
    "    'location_quick_features:std_long',\n",
    "    'location_quick_features:lat_change',\n",
    "    'location_quick_features:long_change',\n",
    "    'location_quick_features:mean_abs_lat_deriv',\n",
    "    'location_quick_features:mean_abs_long_deriv',\n",
    "    # Audio Features\n",
    "    'audio_properties:max_abs_value',\n",
    "    \n",
    "    ### BINARY FEATURES ###\n",
    "    \n",
    "    # App Status\n",
    "    'discrete:app_state:is_active',\n",
    "    'discrete:app_state:is_inactive',\n",
    "    'discrete:app_state:is_background',\n",
    "    'discrete:app_state:missing',\n",
    "    # Battery\n",
    "    'discrete:battery_plugged:is_ac',\n",
    "    'discrete:battery_plugged:is_usb',\n",
    "    'discrete:battery_plugged:is_wireless',\n",
    "    'discrete:battery_plugged:missing',\n",
    "    'discrete:battery_state:is_unknown',\n",
    "    'discrete:battery_state:is_unplugged',\n",
    "    'discrete:battery_state:is_not_charging',\n",
    "    'discrete:battery_state:is_discharging',\n",
    "    'discrete:battery_state:is_charging',\n",
    "    'discrete:battery_state:is_full',\n",
    "    'discrete:battery_state:missing',\n",
    "    # On the Phone\n",
    "    'discrete:on_the_phone:is_False',\n",
    "    'discrete:on_the_phone:is_True',\n",
    "    'discrete:on_the_phone:missing',\n",
    "    # Ringer Mode\n",
    "    'discrete:ringer_mode:is_normal',\n",
    "    'discrete:ringer_mode:is_silent_no_vibrate',\n",
    "    'discrete:ringer_mode:is_silent_with_vibrate',\n",
    "    'discrete:ringer_mode:missing',\n",
    "    # Wifi Status\n",
    "    'discrete:wifi_status:is_not_reachable',\n",
    "    'discrete:wifi_status:is_reachable_via_wifi',\n",
    "    'discrete:wifi_status:is_reachable_via_wwan',\n",
    "    'discrete:wifi_status:missing',\n",
    "    # Time of Day\n",
    "    'discrete:time_of_day:between0and6',\n",
    "    'discrete:time_of_day:between3and9',\n",
    "    'discrete:time_of_day:between6and12',\n",
    "    'discrete:time_of_day:between9and15',\n",
    "    'discrete:time_of_day:between12and18',\n",
    "    'discrete:time_of_day:between15and21',\n",
    "    'discrete:time_of_day:between18and24',\n",
    "    'discrete:time_of_day:between21and3',\n",
    "    \n",
    "    ### CLASS ###\n",
    "    'label:LOC_home']\n",
    "\n",
    "df = df[relevant_features]"
   ]
  },
  {
   "cell_type": "code",
   "execution_count": 60,
   "metadata": {},
   "outputs": [
    {
     "data": {
      "text/html": [
       "<div>\n",
       "<table border=\"1\" class=\"dataframe\">\n",
       "  <thead>\n",
       "    <tr style=\"text-align: right;\">\n",
       "      <th></th>\n",
       "      <th>timestamp</th>\n",
       "      <th>raw_acc:magnitude_stats:percentile25</th>\n",
       "      <th>raw_acc:magnitude_stats:percentile50</th>\n",
       "      <th>raw_acc:magnitude_stats:percentile75</th>\n",
       "      <th>raw_acc:magnitude_stats:value_entropy</th>\n",
       "      <th>raw_acc:magnitude_stats:time_entropy</th>\n",
       "      <th>raw_acc:magnitude_autocorrelation:period</th>\n",
       "      <th>raw_acc:magnitude_autocorrelation:normalized_ac</th>\n",
       "      <th>proc_gyro:magnitude_stats:mean</th>\n",
       "      <th>proc_gyro:magnitude_stats:std</th>\n",
       "      <th>...</th>\n",
       "      <th>proc_gyro:magnitude_autocorrelation:period</th>\n",
       "      <th>proc_gyro:magnitude_autocorrelation:normalized_ac</th>\n",
       "      <th>location_quick_features:std_lat</th>\n",
       "      <th>location_quick_features:std_long</th>\n",
       "      <th>location_quick_features:lat_change</th>\n",
       "      <th>location_quick_features:long_change</th>\n",
       "      <th>location_quick_features:mean_abs_lat_deriv</th>\n",
       "      <th>location_quick_features:mean_abs_long_deriv</th>\n",
       "      <th>audio_properties:max_abs_value</th>\n",
       "      <th>label:LOC_home</th>\n",
       "    </tr>\n",
       "  </thead>\n",
       "  <tbody>\n",
       "    <tr>\n",
       "      <th>0</th>\n",
       "      <td>1445366534</td>\n",
       "      <td>1.018790</td>\n",
       "      <td>1.021975</td>\n",
       "      <td>1.026449</td>\n",
       "      <td>0.765474</td>\n",
       "      <td>6.684317</td>\n",
       "      <td>0.482794</td>\n",
       "      <td>0.073672</td>\n",
       "      <td>0.246308</td>\n",
       "      <td>0.714159</td>\n",
       "      <td>...</td>\n",
       "      <td>2.866588</td>\n",
       "      <td>0.252948</td>\n",
       "      <td>0.000000</td>\n",
       "      <td>0.000001</td>\n",
       "      <td>0.000000</td>\n",
       "      <td>0.000000</td>\n",
       "      <td>0.000000</td>\n",
       "      <td>0.000000</td>\n",
       "      <td>10.320387</td>\n",
       "      <td>0</td>\n",
       "    </tr>\n",
       "    <tr>\n",
       "      <th>1</th>\n",
       "      <td>1445366594</td>\n",
       "      <td>1.011969</td>\n",
       "      <td>1.020782</td>\n",
       "      <td>1.032243</td>\n",
       "      <td>1.446182</td>\n",
       "      <td>6.682553</td>\n",
       "      <td>7.221784</td>\n",
       "      <td>0.143749</td>\n",
       "      <td>0.357748</td>\n",
       "      <td>0.657502</td>\n",
       "      <td>...</td>\n",
       "      <td>7.317348</td>\n",
       "      <td>0.111275</td>\n",
       "      <td>0.000002</td>\n",
       "      <td>0.000003</td>\n",
       "      <td>-0.000001</td>\n",
       "      <td>-0.000003</td>\n",
       "      <td>0.000001</td>\n",
       "      <td>0.000001</td>\n",
       "      <td>10.397208</td>\n",
       "      <td>0</td>\n",
       "    </tr>\n",
       "    <tr>\n",
       "      <th>2</th>\n",
       "      <td>1445366674</td>\n",
       "      <td>1.020100</td>\n",
       "      <td>1.022686</td>\n",
       "      <td>1.025343</td>\n",
       "      <td>0.616602</td>\n",
       "      <td>6.683829</td>\n",
       "      <td>3.600838</td>\n",
       "      <td>0.146281</td>\n",
       "      <td>0.019397</td>\n",
       "      <td>0.065264</td>\n",
       "      <td>...</td>\n",
       "      <td>2.187661</td>\n",
       "      <td>0.240712</td>\n",
       "      <td>0.000000</td>\n",
       "      <td>0.000000</td>\n",
       "      <td>0.000000</td>\n",
       "      <td>0.000000</td>\n",
       "      <td>0.000000</td>\n",
       "      <td>0.000000</td>\n",
       "      <td>10.345767</td>\n",
       "      <td>0</td>\n",
       "    </tr>\n",
       "    <tr>\n",
       "      <th>3</th>\n",
       "      <td>1445366703</td>\n",
       "      <td>1.020766</td>\n",
       "      <td>1.022855</td>\n",
       "      <td>1.025048</td>\n",
       "      <td>0.807471</td>\n",
       "      <td>6.684576</td>\n",
       "      <td>3.962931</td>\n",
       "      <td>0.277193</td>\n",
       "      <td>0.004336</td>\n",
       "      <td>0.017689</td>\n",
       "      <td>...</td>\n",
       "      <td>3.897554</td>\n",
       "      <td>0.250324</td>\n",
       "      <td>0.000000</td>\n",
       "      <td>0.000000</td>\n",
       "      <td>0.000000</td>\n",
       "      <td>0.000000</td>\n",
       "      <td>0.000000</td>\n",
       "      <td>0.000000</td>\n",
       "      <td>10.321737</td>\n",
       "      <td>0</td>\n",
       "    </tr>\n",
       "    <tr>\n",
       "      <th>4</th>\n",
       "      <td>1445366761</td>\n",
       "      <td>1.020367</td>\n",
       "      <td>1.022504</td>\n",
       "      <td>1.024599</td>\n",
       "      <td>0.682306</td>\n",
       "      <td>6.684548</td>\n",
       "      <td>2.936994</td>\n",
       "      <td>0.141068</td>\n",
       "      <td>0.007220</td>\n",
       "      <td>0.033978</td>\n",
       "      <td>...</td>\n",
       "      <td>0.980675</td>\n",
       "      <td>0.183611</td>\n",
       "      <td>0.000006</td>\n",
       "      <td>0.000015</td>\n",
       "      <td>-0.000013</td>\n",
       "      <td>0.000030</td>\n",
       "      <td>0.000005</td>\n",
       "      <td>0.000011</td>\n",
       "      <td>9.918228</td>\n",
       "      <td>0</td>\n",
       "    </tr>\n",
       "  </tbody>\n",
       "</table>\n",
       "<p>5 rows × 24 columns</p>\n",
       "</div>"
      ],
      "text/plain": [
       "    timestamp  raw_acc:magnitude_stats:percentile25  \\\n",
       "0  1445366534                              1.018790   \n",
       "1  1445366594                              1.011969   \n",
       "2  1445366674                              1.020100   \n",
       "3  1445366703                              1.020766   \n",
       "4  1445366761                              1.020367   \n",
       "\n",
       "   raw_acc:magnitude_stats:percentile50  raw_acc:magnitude_stats:percentile75  \\\n",
       "0                              1.021975                              1.026449   \n",
       "1                              1.020782                              1.032243   \n",
       "2                              1.022686                              1.025343   \n",
       "3                              1.022855                              1.025048   \n",
       "4                              1.022504                              1.024599   \n",
       "\n",
       "   raw_acc:magnitude_stats:value_entropy  \\\n",
       "0                               0.765474   \n",
       "1                               1.446182   \n",
       "2                               0.616602   \n",
       "3                               0.807471   \n",
       "4                               0.682306   \n",
       "\n",
       "   raw_acc:magnitude_stats:time_entropy  \\\n",
       "0                              6.684317   \n",
       "1                              6.682553   \n",
       "2                              6.683829   \n",
       "3                              6.684576   \n",
       "4                              6.684548   \n",
       "\n",
       "   raw_acc:magnitude_autocorrelation:period  \\\n",
       "0                                  0.482794   \n",
       "1                                  7.221784   \n",
       "2                                  3.600838   \n",
       "3                                  3.962931   \n",
       "4                                  2.936994   \n",
       "\n",
       "   raw_acc:magnitude_autocorrelation:normalized_ac  \\\n",
       "0                                         0.073672   \n",
       "1                                         0.143749   \n",
       "2                                         0.146281   \n",
       "3                                         0.277193   \n",
       "4                                         0.141068   \n",
       "\n",
       "   proc_gyro:magnitude_stats:mean  proc_gyro:magnitude_stats:std  \\\n",
       "0                        0.246308                       0.714159   \n",
       "1                        0.357748                       0.657502   \n",
       "2                        0.019397                       0.065264   \n",
       "3                        0.004336                       0.017689   \n",
       "4                        0.007220                       0.033978   \n",
       "\n",
       "        ...        proc_gyro:magnitude_autocorrelation:period  \\\n",
       "0       ...                                          2.866588   \n",
       "1       ...                                          7.317348   \n",
       "2       ...                                          2.187661   \n",
       "3       ...                                          3.897554   \n",
       "4       ...                                          0.980675   \n",
       "\n",
       "   proc_gyro:magnitude_autocorrelation:normalized_ac  \\\n",
       "0                                           0.252948   \n",
       "1                                           0.111275   \n",
       "2                                           0.240712   \n",
       "3                                           0.250324   \n",
       "4                                           0.183611   \n",
       "\n",
       "   location_quick_features:std_lat  location_quick_features:std_long  \\\n",
       "0                         0.000000                          0.000001   \n",
       "1                         0.000002                          0.000003   \n",
       "2                         0.000000                          0.000000   \n",
       "3                         0.000000                          0.000000   \n",
       "4                         0.000006                          0.000015   \n",
       "\n",
       "   location_quick_features:lat_change  location_quick_features:long_change  \\\n",
       "0                            0.000000                             0.000000   \n",
       "1                           -0.000001                            -0.000003   \n",
       "2                            0.000000                             0.000000   \n",
       "3                            0.000000                             0.000000   \n",
       "4                           -0.000013                             0.000030   \n",
       "\n",
       "   location_quick_features:mean_abs_lat_deriv  \\\n",
       "0                                    0.000000   \n",
       "1                                    0.000001   \n",
       "2                                    0.000000   \n",
       "3                                    0.000000   \n",
       "4                                    0.000005   \n",
       "\n",
       "   location_quick_features:mean_abs_long_deriv  \\\n",
       "0                                     0.000000   \n",
       "1                                     0.000001   \n",
       "2                                     0.000000   \n",
       "3                                     0.000000   \n",
       "4                                     0.000011   \n",
       "\n",
       "   audio_properties:max_abs_value  label:LOC_home  \n",
       "0                       10.320387               0  \n",
       "1                       10.397208               0  \n",
       "2                       10.345767               0  \n",
       "3                       10.321737               0  \n",
       "4                        9.918228               0  \n",
       "\n",
       "[5 rows x 24 columns]"
      ]
     },
     "execution_count": 60,
     "metadata": {},
     "output_type": "execute_result"
    }
   ],
   "source": [
    "# Assign the right dtypes\n",
    "\n",
    "df.head()"
   ]
  },
  {
   "cell_type": "code",
   "execution_count": 4,
   "metadata": {},
   "outputs": [
    {
     "data": {
      "text/plain": [
       "num_one          float64\n",
       "num_two          float64\n",
       "num_three        float64\n",
       "disc_one           int64\n",
       "disc_two           int64\n",
       "disc_three         int64\n",
       "label_sitting    float64\n",
       "dtype: object"
      ]
     },
     "execution_count": 4,
     "metadata": {},
     "output_type": "execute_result"
    }
   ],
   "source": [
    "df.dtypes"
   ]
  },
  {
   "cell_type": "code",
   "execution_count": 5,
   "metadata": {},
   "outputs": [],
   "source": [
    "# Change the series to be the correct types\n",
    "\n",
    "df['disc_one'] = df['disc_one'].astype(bool)\n",
    "df['disc_two'] = df['disc_two'].astype(bool)\n",
    "df['disc_three'] = df['disc_three'].astype(bool)\n",
    "df['label_sitting'] = df['label_sitting'].astype(bool)"
   ]
  },
  {
   "cell_type": "code",
   "execution_count": 6,
   "metadata": {},
   "outputs": [
    {
     "name": "stdout",
     "output_type": "stream",
     "text": [
      "<class 'pandas.core.frame.DataFrame'>\n",
      "RangeIndex: 3960 entries, 0 to 3959\n",
      "Data columns (total 7 columns):\n",
      "num_one          3960 non-null float64\n",
      "num_two          3960 non-null float64\n",
      "num_three        3960 non-null float64\n",
      "disc_one         3960 non-null bool\n",
      "disc_two         3960 non-null bool\n",
      "disc_three       3960 non-null bool\n",
      "label_sitting    3960 non-null bool\n",
      "dtypes: bool(4), float64(3)\n",
      "memory usage: 108.4 KB\n"
     ]
    }
   ],
   "source": [
    "df.info()"
   ]
  },
  {
   "cell_type": "code",
   "execution_count": 7,
   "metadata": {},
   "outputs": [
    {
     "data": {
      "text/html": [
       "<div>\n",
       "<table border=\"1\" class=\"dataframe\">\n",
       "  <thead>\n",
       "    <tr style=\"text-align: right;\">\n",
       "      <th></th>\n",
       "      <th>num_one</th>\n",
       "      <th>num_two</th>\n",
       "      <th>num_three</th>\n",
       "      <th>disc_one</th>\n",
       "      <th>disc_two</th>\n",
       "      <th>disc_three</th>\n",
       "      <th>label_sitting</th>\n",
       "    </tr>\n",
       "  </thead>\n",
       "  <tbody>\n",
       "    <tr>\n",
       "      <th>0</th>\n",
       "      <td>1.000371</td>\n",
       "      <td>0.007671</td>\n",
       "      <td>-0.016173</td>\n",
       "      <td>False</td>\n",
       "      <td>True</td>\n",
       "      <td>False</td>\n",
       "      <td>True</td>\n",
       "    </tr>\n",
       "    <tr>\n",
       "      <th>1</th>\n",
       "      <td>1.000243</td>\n",
       "      <td>0.003782</td>\n",
       "      <td>-0.002713</td>\n",
       "      <td>False</td>\n",
       "      <td>False</td>\n",
       "      <td>True</td>\n",
       "      <td>True</td>\n",
       "    </tr>\n",
       "    <tr>\n",
       "      <th>2</th>\n",
       "      <td>1.000811</td>\n",
       "      <td>0.002082</td>\n",
       "      <td>-0.001922</td>\n",
       "      <td>False</td>\n",
       "      <td>False</td>\n",
       "      <td>True</td>\n",
       "      <td>True</td>\n",
       "    </tr>\n",
       "    <tr>\n",
       "      <th>3</th>\n",
       "      <td>1.001245</td>\n",
       "      <td>0.004715</td>\n",
       "      <td>-0.002895</td>\n",
       "      <td>True</td>\n",
       "      <td>False</td>\n",
       "      <td>False</td>\n",
       "      <td>True</td>\n",
       "    </tr>\n",
       "    <tr>\n",
       "      <th>4</th>\n",
       "      <td>1.001354</td>\n",
       "      <td>0.065186</td>\n",
       "      <td>-0.096520</td>\n",
       "      <td>False</td>\n",
       "      <td>True</td>\n",
       "      <td>False</td>\n",
       "      <td>True</td>\n",
       "    </tr>\n",
       "  </tbody>\n",
       "</table>\n",
       "</div>"
      ],
      "text/plain": [
       "    num_one   num_two  num_three disc_one disc_two disc_three label_sitting\n",
       "0  1.000371  0.007671  -0.016173    False     True      False          True\n",
       "1  1.000243  0.003782  -0.002713    False    False       True          True\n",
       "2  1.000811  0.002082  -0.001922    False    False       True          True\n",
       "3  1.001245  0.004715  -0.002895     True    False      False          True\n",
       "4  1.001354  0.065186  -0.096520    False     True      False          True"
      ]
     },
     "execution_count": 7,
     "metadata": {},
     "output_type": "execute_result"
    }
   ],
   "source": [
    "df.head()"
   ]
  },
  {
   "cell_type": "code",
   "execution_count": 8,
   "metadata": {},
   "outputs": [
    {
     "data": {
      "text/plain": [
       "<matplotlib.axes._subplots.AxesSubplot at 0x101dfeb50>"
      ]
     },
     "execution_count": 8,
     "metadata": {},
     "output_type": "execute_result"
    },
    {
     "data": {
      "image/png": "[encoded data removed]",
      "text/plain": [
       "<matplotlib.figure.Figure at 0x101dfe710>"
      ]
     },
     "metadata": {},
     "output_type": "display_data"
    }
   ],
   "source": [
    "df.plot.scatter(x='label_sitting',y='num_one')"
   ]
  },
  {
   "cell_type": "code",
   "execution_count": 9,
   "metadata": {},
   "outputs": [
    {
     "data": {
      "text/plain": [
       "<matplotlib.axes._subplots.AxesSubplot at 0x101e40cd0>"
      ]
     },
     "execution_count": 9,
     "metadata": {},
     "output_type": "execute_result"
    },
    {
     "data": {
      "image/png": "[encoded data removed]",
      "text/plain": [
       "<matplotlib.figure.Figure at 0x101eb70d0>"
      ]
     },
     "metadata": {},
     "output_type": "display_data"
    }
   ],
   "source": [
    "df.plot.scatter(x='label_sitting',y='num_two')"
   ]
  },
  {
   "cell_type": "code",
   "execution_count": 10,
   "metadata": {},
   "outputs": [
    {
     "data": {
      "text/plain": [
       "<matplotlib.axes._subplots.AxesSubplot at 0x106ea6910>"
      ]
     },
     "execution_count": 10,
     "metadata": {},
     "output_type": "execute_result"
    },
    {
     "data": {
      "image/png": "[encoded data removed]",
      "text/plain": [
       "<matplotlib.figure.Figure at 0x106ebb390>"
      ]
     },
     "metadata": {},
     "output_type": "display_data"
    }
   ],
   "source": [
    "df.plot.scatter(x='label_sitting',y='num_three')"
   ]
  },
  {
   "cell_type": "code",
   "execution_count": 11,
   "metadata": {},
   "outputs": [
    {
     "data": {
      "text/plain": [
       "<matplotlib.axes._subplots.AxesSubplot at 0x10707b850>"
      ]
     },
     "execution_count": 11,
     "metadata": {},
     "output_type": "execute_result"
    },
    {
     "data": {
      "image/png": "[encoded data removed]",
      "text/plain": [
       "<matplotlib.figure.Figure at 0x107096350>"
      ]
     },
     "metadata": {},
     "output_type": "display_data"
    }
   ],
   "source": [
    "df.plot.scatter(x='label_sitting',y='disc_one')"
   ]
  },
  {
   "cell_type": "code",
   "execution_count": 12,
   "metadata": {},
   "outputs": [
    {
     "data": {
      "text/plain": [
       "<matplotlib.axes._subplots.AxesSubplot at 0x1071a2e50>"
      ]
     },
     "execution_count": 12,
     "metadata": {},
     "output_type": "execute_result"
    },
    {
     "data": {
      "image/png": "[encoded data removed]",
      "text/plain": [
       "<matplotlib.figure.Figure at 0x1071c1610>"
      ]
     },
     "metadata": {},
     "output_type": "display_data"
    }
   ],
   "source": [
    "df['num_three'] = df['num_three'] + np.arange(3960)\n",
    "df.plot.hexbin(x='label_sitting', y='num_three', gridsize=25)"
   ]
  },
  {
   "cell_type": "code",
   "execution_count": 13,
   "metadata": {},
   "outputs": [
    {
     "data": {
      "text/plain": [
       "array([[<matplotlib.axes._subplots.AxesSubplot object at 0x10734ca90>,\n",
       "        <matplotlib.axes._subplots.AxesSubplot object at 0x10745ba90>,\n",
       "        <matplotlib.axes._subplots.AxesSubplot object at 0x1074df590>],\n",
       "       [<matplotlib.axes._subplots.AxesSubplot object at 0x10754be90>,\n",
       "        <matplotlib.axes._subplots.AxesSubplot object at 0x1075db350>,\n",
       "        <matplotlib.axes._subplots.AxesSubplot object at 0x10757ae50>],\n",
       "       [<matplotlib.axes._subplots.AxesSubplot object at 0x1076c0e90>,\n",
       "        <matplotlib.axes._subplots.AxesSubplot object at 0x107743d10>,\n",
       "        <matplotlib.axes._subplots.AxesSubplot object at 0x1077b4410>]],\n",
       "      dtype=object)"
      ]
     },
     "execution_count": 13,
     "metadata": {},
     "output_type": "execute_result"
    },
    {
     "data": {
      "image/png": "[encoded data removed]",
      "text/plain": [
       "<matplotlib.figure.Figure at 0x1071c7890>"
      ]
     },
     "metadata": {},
     "output_type": "display_data"
    }
   ],
   "source": [
    "df.hist(bins=2)"
   ]
  },
  {
   "cell_type": "code",
   "execution_count": null,
   "metadata": {},
   "outputs": [],
   "source": []
  }
 ],
 "metadata": {
  "kernelspec": {
   "display_name": "Python 2",
   "language": "python",
   "name": "python2"
  },
  "language_info": {
   "codemirror_mode": {
    "name": "ipython",
    "version": 2
   },
   "file_extension": ".py",
   "mimetype": "text/x-python",
   "name": "python",
   "nbconvert_exporter": "python",
   "pygments_lexer": "ipython2",
   "version": "2.7.11"
  }
 },
 "nbformat": 4,
 "nbformat_minor": 2
}
